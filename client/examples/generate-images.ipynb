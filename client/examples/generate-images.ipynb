{
 "cells": [
  {
   "cell_type": "markdown",
   "metadata": {},
   "source": [
    "Import client code."
   ]
  },
  {
   "cell_type": "code",
   "execution_count": 37,
   "metadata": {
    "collapsed": false
   },
   "outputs": [
    {
     "data": {
      "text/plain": [
       "<module 'logging' from 'D:\\Anaconda2\\lib\\logging\\__init__.pyc'>"
      ]
     },
     "execution_count": 37,
     "metadata": {},
     "output_type": "execute_result"
    }
   ],
   "source": [
    "import logging\n",
    "reload(logging) # This is required for ipython notebook\n",
    "# The error is reported using logging module"
   ]
  },
  {
   "cell_type": "code",
   "execution_count": 38,
   "metadata": {
    "collapsed": false
   },
   "outputs": [],
   "source": [
    "import os, sys\n",
    "sys.path.append('..')\n",
    "import ue4cv"
   ]
  },
  {
   "cell_type": "markdown",
   "metadata": {},
   "source": [
    "Connect to the game"
   ]
  },
  {
   "cell_type": "code",
   "execution_count": 39,
   "metadata": {
    "collapsed": true
   },
   "outputs": [],
   "source": [
    "def print_message(msg):\n",
    "    print '.'"
   ]
  },
  {
   "cell_type": "code",
   "execution_count": 40,
   "metadata": {
    "collapsed": false
   },
   "outputs": [
    {
     "name": "stdout",
     "output_type": "stream",
     "text": [
      "Client connected\n"
     ]
    }
   ],
   "source": [
    "ue4cv.client.connect() # Make sure unrealcv server can detect client disconnection\n",
    "if ue4cv.client.isconnected():\n",
    "    print 'Client connected'\n",
    "else:\n",
    "    print 'Error, Can not connect to the game, make sure the game is running'"
   ]
  },
  {
   "cell_type": "code",
   "execution_count": 31,
   "metadata": {
    "collapsed": false
   },
   "outputs": [
    {
     "name": "stdout",
     "output_type": "stream",
     "text": [
      "ok\n"
     ]
    }
   ],
   "source": [
    "print ue4cv.client.request('vset /mode/lit')\n",
    "# client2.request('vset /mode/depth')"
   ]
  },
  {
   "cell_type": "markdown",
   "metadata": {},
   "source": [
    "Define a function to read message from text file"
   ]
  },
  {
   "cell_type": "code",
   "execution_count": 32,
   "metadata": {
    "collapsed": true
   },
   "outputs": [],
   "source": [
    "def read_camera_info(filename):\n",
    "    with open(filename) as f:\n",
    "        lines = f.readlines()\n",
    "    # Parse camera location and rotation from file\n",
    "    camera_pos = []\n",
    "    for line_id in range(len(lines)):\n",
    "        line = lines[line_id].strip() # Remove \\n at the end\n",
    "        if line_id % 3 == 0: # filename\n",
    "            pass\n",
    "        elif line_id % 3 == 1: # location\n",
    "            location = [float(v) for v in line.split(' ')]\n",
    "        elif line_id % 3 == 2: # Rotation\n",
    "            rotation = [float(v) for v in line.split(' ')]\n",
    "            camera_pos.append((location, rotation))\n",
    "    return camera_pos"
   ]
  },
  {
   "cell_type": "code",
   "execution_count": 34,
   "metadata": {
    "collapsed": false
   },
   "outputs": [
    {
     "ename": "IOError",
     "evalue": "[Errno 2] No such file or directory: './camera_info.txt'",
     "output_type": "error",
     "traceback": [
      "\u001b[1;31m---------------------------------------------------------------------------\u001b[0m",
      "\u001b[1;31mIOError\u001b[0m                                   Traceback (most recent call last)",
      "\u001b[1;32m<ipython-input-34-54ff2029a23b>\u001b[0m in \u001b[0;36m<module>\u001b[1;34m()\u001b[0m\n\u001b[1;32m----> 1\u001b[1;33m \u001b[0mcamera_pos\u001b[0m \u001b[1;33m=\u001b[0m \u001b[0mread_camera_info\u001b[0m\u001b[1;33m(\u001b[0m\u001b[1;34m'./camera_info.txt'\u001b[0m\u001b[1;33m)\u001b[0m\u001b[1;33m\u001b[0m\u001b[0m\n\u001b[0m",
      "\u001b[1;32m<ipython-input-32-69082faacf0b>\u001b[0m in \u001b[0;36mread_camera_info\u001b[1;34m(filename)\u001b[0m\n\u001b[0;32m      1\u001b[0m \u001b[1;32mdef\u001b[0m \u001b[0mread_camera_info\u001b[0m\u001b[1;33m(\u001b[0m\u001b[0mfilename\u001b[0m\u001b[1;33m)\u001b[0m\u001b[1;33m:\u001b[0m\u001b[1;33m\u001b[0m\u001b[0m\n\u001b[1;32m----> 2\u001b[1;33m     \u001b[1;32mwith\u001b[0m \u001b[0mopen\u001b[0m\u001b[1;33m(\u001b[0m\u001b[0mfilename\u001b[0m\u001b[1;33m)\u001b[0m \u001b[1;32mas\u001b[0m \u001b[0mf\u001b[0m\u001b[1;33m:\u001b[0m\u001b[1;33m\u001b[0m\u001b[0m\n\u001b[0m\u001b[0;32m      3\u001b[0m         \u001b[0mlines\u001b[0m \u001b[1;33m=\u001b[0m \u001b[0mf\u001b[0m\u001b[1;33m.\u001b[0m\u001b[0mreadlines\u001b[0m\u001b[1;33m(\u001b[0m\u001b[1;33m)\u001b[0m\u001b[1;33m\u001b[0m\u001b[0m\n\u001b[0;32m      4\u001b[0m     \u001b[1;31m# Parse camera location and rotation from file\u001b[0m\u001b[1;33m\u001b[0m\u001b[1;33m\u001b[0m\u001b[0m\n\u001b[0;32m      5\u001b[0m     \u001b[0mcamera_pos\u001b[0m \u001b[1;33m=\u001b[0m \u001b[1;33m[\u001b[0m\u001b[1;33m]\u001b[0m\u001b[1;33m\u001b[0m\u001b[0m\n",
      "\u001b[1;31mIOError\u001b[0m: [Errno 2] No such file or directory: './camera_info.txt'"
     ]
    }
   ],
   "source": [
    "camera_pos = read_camera_info('./camera_info.txt')"
   ]
  },
  {
   "cell_type": "markdown",
   "metadata": {},
   "source": [
    "Define a function to render images"
   ]
  },
  {
   "cell_type": "code",
   "execution_count": 35,
   "metadata": {
    "collapsed": false
   },
   "outputs": [],
   "source": [
    "import time\n",
    "def render_frame(client, pos):\n",
    "    loc = pos[0] # location\n",
    "    rot = pos[1] # rotation\n",
    "    cmd = 'vset /camera/0/location %.3f %.3f %.3f' % (loc[0], loc[1], loc[2])\n",
    "    response = client.request(cmd)\n",
    "    assert response == 'ok'\n",
    "    cmd = 'vset /camera/0/rotation %.3f %.3f %.3f' % (rot[0], rot[1], rot[2])\n",
    "    response = client.request(cmd)\n",
    "    assert response == 'ok'\n",
    "    files = []\n",
    "    f1 = client.request('vget /camera/0/lit')\n",
    "    f2 = client.request('vget /camera/0/depth')\n",
    "    f3 = client.request('vget /camera/0/object_mask')\n",
    "    f4 = client.request('vget /camera/0/normal')\n",
    "\n",
    "    return [f1, f2, f3, f4]"
   ]
  },
  {
   "cell_type": "code",
   "execution_count": 36,
   "metadata": {
    "collapsed": false
   },
   "outputs": [
    {
     "ename": "NameError",
     "evalue": "name 'camera_pos' is not defined",
     "output_type": "error",
     "traceback": [
      "\u001b[1;31m---------------------------------------------------------------------------\u001b[0m",
      "\u001b[1;31mNameError\u001b[0m                                 Traceback (most recent call last)",
      "\u001b[1;32m<ipython-input-36-5925f48ad806>\u001b[0m in \u001b[0;36m<module>\u001b[1;34m()\u001b[0m\n\u001b[0;32m      3\u001b[0m \u001b[0mplt\u001b[0m\u001b[1;33m.\u001b[0m\u001b[0mrcParams\u001b[0m\u001b[1;33m[\u001b[0m\u001b[1;34m'figure.figsize'\u001b[0m\u001b[1;33m]\u001b[0m \u001b[1;33m=\u001b[0m \u001b[1;33m(\u001b[0m\u001b[1;36m20.0\u001b[0m\u001b[1;33m,\u001b[0m \u001b[1;36m20.0\u001b[0m\u001b[1;33m)\u001b[0m\u001b[1;33m\u001b[0m\u001b[0m\n\u001b[0;32m      4\u001b[0m \u001b[1;33m\u001b[0m\u001b[0m\n\u001b[1;32m----> 5\u001b[1;33m \u001b[0mpos\u001b[0m \u001b[1;33m=\u001b[0m \u001b[0mcamera_pos\u001b[0m\u001b[1;33m[\u001b[0m\u001b[1;36m1\u001b[0m\u001b[1;33m]\u001b[0m\u001b[1;33m\u001b[0m\u001b[0m\n\u001b[0m\u001b[0;32m      6\u001b[0m \u001b[0mfiles\u001b[0m \u001b[1;33m=\u001b[0m \u001b[0mrender_frame\u001b[0m\u001b[1;33m(\u001b[0m\u001b[0mclient\u001b[0m\u001b[1;33m,\u001b[0m \u001b[0mpos\u001b[0m\u001b[1;33m)\u001b[0m\u001b[1;33m\u001b[0m\u001b[0m\n\u001b[0;32m      7\u001b[0m \u001b[0mN\u001b[0m \u001b[1;33m=\u001b[0m \u001b[0mlen\u001b[0m\u001b[1;33m(\u001b[0m\u001b[0mfiles\u001b[0m\u001b[1;33m)\u001b[0m\u001b[1;33m\u001b[0m\u001b[0m\n",
      "\u001b[1;31mNameError\u001b[0m: name 'camera_pos' is not defined"
     ]
    }
   ],
   "source": [
    "import matplotlib.pyplot as plt\n",
    "%matplotlib inline\n",
    "plt.rcParams['figure.figsize'] = (20.0, 20.0)\n",
    "\n",
    "pos = camera_pos[1]\n",
    "files = render_frame(client, pos)\n",
    "N = len(files)\n",
    "for i in range(N):\n",
    "    plt.subplot(N/2,2,i+1)\n",
    "    im = plt.imread(files[i])\n",
    "    plt.imshow(im)\n",
    "    plt.axis('off')\n",
    "plt.tight_layout()"
   ]
  },
  {
   "cell_type": "code",
   "execution_count": 8,
   "metadata": {
    "collapsed": false
   },
   "outputs": [
    {
     "name": "stdout",
     "output_type": "stream",
     "text": [
      "Receive payload size 3490\n",
      "['Carpet_5', 'SM_CoffeeTable_14', 'Couch_13', 'SM_Room_7', 'SM_Room_OuterShell_14']\n"
     ]
    }
   ],
   "source": [
    "objects = client.request('vget /objects').split(' ')\n",
    "print objects[:5]"
   ]
  },
  {
   "cell_type": "code",
   "execution_count": 9,
   "metadata": {
    "collapsed": false
   },
   "outputs": [
    {
     "name": "stdout",
     "output_type": "stream",
     "text": [
      "Receive payload size 23\n"
     ]
    },
    {
     "data": {
      "text/plain": [
       "'(R=57,G=2,B=34,A=255)'"
      ]
     },
     "execution_count": 9,
     "metadata": {},
     "output_type": "execute_result"
    }
   ],
   "source": [
    "objname = objects[0]\n",
    "client.request('vget /object/%s/color' % objname)"
   ]
  },
  {
   "cell_type": "code",
   "execution_count": 12,
   "metadata": {
    "collapsed": false
   },
   "outputs": [
    {
     "name": "stdout",
     "output_type": "stream",
     "text": [
      "Receive payload size 698\n",
      "vrun [str]\n",
      "Run an alias for Unreal CV plugin\n",
      "vget /camera/[uint]/location\n",
      "Get camera location\n",
      "vget /camera/[uint]/rotation\n",
      "Get camera rotation\n",
      "vset /camera/[uint]/location [float] [float] [float]\n",
      "Set camera location\n",
      "vset /camera/[uint]/rotation [float] [float] [float]\n",
      "Set camera rotation\n",
      "vget /camera/[uint]/view\n",
      "Get snapshot from camera\n",
      "vget /camera/[uint]/[str]\n",
      "Get snapshot from camera\n",
      "vset /mode/[str]\n",
      "Set mode\n",
      "vget /mode\n",
      "Get mode\n",
      "vget /objects\n",
      "Get all objects in the scene\n",
      "[str] /object/_/[str]\n",
      "Get current object\n",
      "vget /object/[str]/color\n",
      "Get object color\n",
      "vset /object/[str]/color\n",
      "Set object color\n",
      "vget /object/[str]/name\n",
      "Get object name\n",
      "vget /util/get_commands\n",
      "Get all available commands\n",
      "\n"
     ]
    }
   ],
   "source": [
    "print client.request('vrun ls')"
   ]
  },
  {
   "cell_type": "code",
   "execution_count": null,
   "metadata": {
    "collapsed": true
   },
   "outputs": [],
   "source": []
  }
 ],
 "metadata": {
  "kernelspec": {
   "display_name": "Python 2",
   "language": "python",
   "name": "python2"
  },
  "language_info": {
   "codemirror_mode": {
    "name": "ipython",
    "version": 2
   },
   "file_extension": ".py",
   "mimetype": "text/x-python",
   "name": "python",
   "nbconvert_exporter": "python",
   "pygments_lexer": "ipython2",
   "version": "2.7.11"
  }
 },
 "nbformat": 4,
 "nbformat_minor": 0
}
